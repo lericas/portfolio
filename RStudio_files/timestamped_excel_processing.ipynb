{
 "cells": [
  {
   "cell_type": "code",
   "execution_count": 42,
   "id": "7ac74eb8",
   "metadata": {},
   "outputs": [],
   "source": [
    "# import libraries\n",
    "import os\n",
    "import time\n",
    "import pandas as pd"
   ]
  },
  {
   "cell_type": "code",
   "execution_count": 43,
   "id": "af4f437b",
   "metadata": {},
   "outputs": [
    {
     "name": "stdout",
     "output_type": "stream",
     "text": [
      "Current Working Directory: C:\\Users\\lewis\\Desktop\\python_script_example\n"
     ]
    }
   ],
   "source": [
    "# Get the current working directory\n",
    "current_working_directory = os.getcwd()\n",
    "\n",
    "print(\"Current Working Directory:\", current_working_directory)\n"
   ]
  },
  {
   "cell_type": "code",
   "execution_count": 44,
   "id": "afe71d9e",
   "metadata": {},
   "outputs": [],
   "source": [
    "# Set the paths for files\n",
    "excel_file_path = 'list_fav_meals.xlsx'\n",
    "timestamp_file_path = 'last_run_timestamp.txt'\n",
    "\n",
    "# Extract base name of the Excel file without extension to create CSV file name\n",
    "excel_file_name = os.path.splitext(os.path.basename(excel_file_path))[0]\n",
    "csv_file_path = f'{excel_file_name}.csv'\n",
    "\n",
    "# Get the current timestamp\n",
    "current_timestamp = time.time()"
   ]
  },
  {
   "cell_type": "code",
   "execution_count": 45,
   "id": "d5181f6e",
   "metadata": {},
   "outputs": [
    {
     "name": "stdout",
     "output_type": "stream",
     "text": [
      "Excel file was run within the last 28 days. Not running it again.\n"
     ]
    }
   ],
   "source": [
    "# Check if the timestamp file exists\n",
    "if os.path.exists(timestamp_file_path):\n",
    "    # Read the last run timestamp from the file\n",
    "    with open(timestamp_file_path, 'r') as file:\n",
    "        last_run_timestamp_str = file.read().strip()  # Remove leading/trailing whitespaces\n",
    "\n",
    "    try:\n",
    "        # Attempt to convert the read timestamp to a float\n",
    "        last_run_timestamp = float(last_run_timestamp_str)\n",
    "    except ValueError:\n",
    "        # Handle the case where the file doesn't contain a valid float\n",
    "        logger.info(\"Invalid timestamp in the file. Using the current timestamp.\")\n",
    "        last_run_timestamp = 0.0  # Set a default value or handle this case as needed\n",
    "else:\n",
    "    # Handle the case where the file doesn't exist\n",
    "    logger.info(\"Timestamp file not found. Using the current timestamp.\")\n",
    "    last_run_timestamp = 0.0  # Set a default value or handle this case as needed\n",
    "\n",
    "# Compare with the current timestamp to determine if the Excel file has been run before\n",
    "if current_timestamp - last_run_timestamp < 2419200:  # 2419200 seconds = 28 days\n",
    "    print(\"Excel file was run within the last 28 days. Not running it again.\")\n",
    "else:\n",
    "    logger.info(\"Processing the Excel file.\")\n",
    "\n",
    "    # Load data from Excel file (replace this with your Excel processing logic)\n",
    "    try:\n",
    "        df_excel = pd.read_excel(excel_file_path)\n",
    "        \n",
    "        # Your Excel processing logic goes here\n",
    "        \n",
    "        # Save the processed data to CSV\n",
    "        df_excel.to_csv(csv_file_path, index=False)\n",
    "        logger.info(f\"Data processed and saved to {csv_file_path}\")\n",
    "\n",
    "        # Update the timestamp file with the current timestamp\n",
    "        with open(timestamp_file_path, 'w') as file:\n",
    "            file.write(str(current_timestamp))\n",
    "            logger.info(\"Timestamp file updated.\")\n",
    "    except Exception as e:\n",
    "        logger.info(f\"Error processing Excel file: {e}\")\n",
    "\n"
   ]
  },
  {
   "cell_type": "code",
   "execution_count": null,
   "id": "fd400b2e",
   "metadata": {},
   "outputs": [],
   "source": []
  }
 ],
 "metadata": {
  "kernelspec": {
   "display_name": "Python 3 (ipykernel)",
   "language": "python",
   "name": "python3"
  },
  "language_info": {
   "codemirror_mode": {
    "name": "ipython",
    "version": 3
   },
   "file_extension": ".py",
   "mimetype": "text/x-python",
   "name": "python",
   "nbconvert_exporter": "python",
   "pygments_lexer": "ipython3",
   "version": "3.10.11"
  }
 },
 "nbformat": 4,
 "nbformat_minor": 5
}
