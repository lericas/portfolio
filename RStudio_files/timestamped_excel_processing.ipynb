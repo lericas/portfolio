{
 "cells": [
  {
   "cell_type": "code",
   "execution_count": null,
   "id": "7ac74eb8",
   "metadata": {},
   "outputs": [],
   "source": [
    "'''\n",
    "Import libraries and install openxyl library to convert excel file to CSV file and smtplip helps with handling email\n",
    "notifications\n",
    "'''\n",
    "import os\n",
    "import pandas as pd\n",
    "import time\n",
    "import logging\n",
    "import logging.handlers\n",
    "import smtplib\n",
    "from email.message import EmailMessage\n"
   ]
  },
  {
   "cell_type": "code",
   "execution_count": null,
   "id": "af4f437b",
   "metadata": {},
   "outputs": [],
   "source": [
    "# Get the current working directory\n",
    "current_working_directory = os.getcwd()\n",
    "print(\"Current Working Directory:\", current_working_directory)"
   ]
  },
  {
   "cell_type": "code",
   "execution_count": null,
   "id": "afe71d9e",
   "metadata": {},
   "outputs": [],
   "source": [
    "# Set the paths for files\n",
    "excel_file_path = 'list_fav_meals.xlsx'\n",
    "timestamp_file_path = 'last_run_timestamp.txt' # no need to create a text file"
   ]
  },
  {
   "cell_type": "code",
   "execution_count": null,
   "id": "d5181f6e",
   "metadata": {},
   "outputs": [],
   "source": [
    "# Check if the file exists\n",
    "if not os.path.exists(timestamp_file_path):\n",
    "    # Open the file in write mode to create it\n",
    "    with open(timestamp_file_path, 'w') as file:\n",
    "        pass  # This does nothing, creating an empty file\n",
    "    print(f\"File '{timestamp_file_path}' has been created.\")\n",
    "else:\n",
    "    print(f\"File '{timestamp_file_path}' already exists.\")\n"
   ]
  },
  {
   "cell_type": "code",
   "execution_count": null,
   "id": "fd400b2e",
   "metadata": {},
   "outputs": [],
   "source": [
    "# Extract base name of the Excel file without extension to create CSV file name\n",
    "excel_file_name = os.path.splitext(os.path.basename(excel_file_path))[0]\n",
    "csv_file_path = f'{excel_file_name}.csv'\n",
    "\n",
    "# Get the current timestamp\n",
    "current_timestamp = time.time()\n",
    "print(\"Current timestamp:\", current_timestamp)\n"
   ]
  },
  {
   "cell_type": "code",
   "execution_count": null,
   "id": "6f97e130",
   "metadata": {},
   "outputs": [],
   "source": [
    "# Check if the timestamp file exists\n",
    "if os.path.exists(timestamp_file_path):\n",
    "    # Read the last run timestamp from the file\n",
    "    with open(timestamp_file_path, 'r') as file:\n",
    "        last_run_timestamp_str = file.read().strip()  # Remove leading/trailing whitespaces\n",
    "\n",
    "    try:\n",
    "        # Attempt to convert the read timestamp to a float\n",
    "        last_run_timestamp = float(last_run_timestamp_str)\n",
    "    except ValueError:\n",
    "        # Handle the case where the file doesn't contain a valid float\n",
    "        logging.info(\"Invalid timestamp in the file. Using the current timestamp.\")\n",
    "        last_run_timestamp = 0.0  # Set a default value or handle this case as needed\n",
    "else:\n",
    "    # Handle the case where the file doesn't exist\n",
    "    logging.info(\"Timestamp file not found. Using the current timestamp.\")\n",
    "    print(\"Timestamp file not found. Using the current timestamp.\")\n",
    "    last_run_timestamp = 0.0  # Set a default value or handle this case as needed\n"
   ]
  },
  {
   "cell_type": "code",
   "execution_count": null,
   "id": "49bdb9d4",
   "metadata": {},
   "outputs": [],
   "source": [
    "# Compare with the current timestamp to determine if the Excel file has been run before\n",
    "if current_timestamp - last_run_timestamp < 120:  # timestamp for two minutes, and 2419200 is the timestamp calculated number for 28 days\n",
    "    print(\"Excel file was run within the last 2 minutes. Not running it again.\")\n",
    "else:\n",
    "    logging.info(\"Processing the Excel file.\")\n",
    "    print(\"Processing the Excel file.\")\n",
    "\n",
    "    # Load data from Excel file (replace this with your Excel processing logic)\n",
    "    try:\n",
    "        df_excel = pd.read_excel(excel_file_path)\n",
    "\n",
    "        # Your Excel processing logic goes here\n",
    "\n",
    "        # Save the processed data to CSV\n",
    "        df_excel.to_csv(csv_file_path, index=False)\n",
    "        logging.info(f\"Data processed and saved to {csv_file_path}\")\n",
    "        print(f\"Data processed and saved to {csv_file_path}\")\n",
    "\n",
    "        # Update the timestamp file with the current timestamp\n",
    "        with open(timestamp_file_path, 'w') as file:\n",
    "            file.write(str(current_timestamp))\n",
    "            logging.info(\"Timestamp file updated.\")\n",
    "            print(\"Timestamp file updated.\")\n",
    "    except Exception as e:\n",
    "        logging.info(f\"Error processing Excel file: {e}\")\n",
    "        print(f\"Error processing Excel file: {e}\")"
   ]
  },
  {
   "cell_type": "code",
   "execution_count": null,
   "id": "e1001ed3",
   "metadata": {},
   "outputs": [],
   "source": [
    "\n",
    "# How to Handle Email Notification Instructions.\n",
    "# Note: App Passwordis different than regular email password, see instructions below\n",
    "\n",
    "# Email configuration\n",
    "# How to set up an APP PASSWORD on a Google account: https://www.youtube.com/watch?v=IWxwWFTlTUQ\n",
    "email_sender = 'account_testing@outlook.com'  # Sender email info. It is a new mock email, we need to replace it for final version\n",
    "email_password = 'type_here_your_app_password'  # App Password created on Outlook/Google account\n",
    "email_recipient = 'recipient_email@gmail.com' # Replace with your email address\n",
    "\n",
    "# Function to send email notification and protocols\n",
    "def send_email(subject, body):\n",
    "    msg = EmailMessage()\n",
    "    msg.set_content(body)\n",
    "    msg['Subject'] = subject\n",
    "    msg['From'] = email_sender\n",
    "    msg['To'] = email_recipient\n",
    "\n",
    "    try:\n",
    "        server = smtplib.SMTP('smtp-mail.outlook.com', 587) #sender@outlook.com\n",
    "        server.starttls()\n",
    "        server.login(email_sender, email_password)\n",
    "        server.send_message(msg)\n",
    "        server.quit()\n",
    "        print(\"Email notification sent successfully.\")\n",
    "    except Exception as e:\n",
    "        print(f\"Error sending email notification: {e}\")\n",
    "\n",
    "\n",
    "# Inside the try block where data is processed or error occurs\n",
    "try:\n",
    "    # Your Excel processing logic goes here\n",
    "    # Save the processed data to CSV\n",
    "    df_excel.to_csv(csv_file_path, index=False)\n",
    "    logging.info(f\"Data processed and saved to {csv_file_path}\")\n",
    "    print(f\"Data processed and saved to {csv_file_path}\")\n",
    "\n",
    "    # Send email notification when the file is successfully processed\n",
    "    send_email(\"Data Processed Successfully\", f\"Data processed and saved to {csv_file_path}\")\n",
    "except Exception as e:\n",
    "    logging.info(f\"Error processing Excel file: {e}\")\n",
    "    print(f\"Error processing Excel file: {e}\")\n",
    "\n",
    "    # Send email notification when there is an error\n",
    "    send_email(\"Error Processing Excel File\", f\"Error processing Excel file: {e}\")"
   ]
  }
 ],
 "metadata": {
  "kernelspec": {
   "display_name": "Python 3 (ipykernel)",
   "language": "python",
   "name": "python3"
  },
  "language_info": {
   "codemirror_mode": {
    "name": "ipython",
    "version": 3
   },
   "file_extension": ".py",
   "mimetype": "text/x-python",
   "name": "python",
   "nbconvert_exporter": "python",
   "pygments_lexer": "ipython3",
   "version": "3.9.13"
  }
 },
 "nbformat": 4,
 "nbformat_minor": 5
}
